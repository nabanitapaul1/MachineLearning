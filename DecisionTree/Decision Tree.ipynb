{
 "cells": [
  {
   "cell_type": "markdown",
   "metadata": {},
   "source": [
    "## Exercise: Build decision tree model to predict survival based on certain parameters\n",
    "\n"
   ]
  },
  {
   "cell_type": "code",
   "execution_count": 1,
   "metadata": {},
   "outputs": [],
   "source": [
    "import pandas as pd\n",
    "import numpy as np\n",
    "import matplotlib.pyplot as plt\n",
    "import seaborn as sns\n",
    "%matplotlib inline"
   ]
  },
  {
   "cell_type": "code",
   "execution_count": 2,
   "metadata": {},
   "outputs": [],
   "source": [
    "# import Titanic dataset "
   ]
  },
  {
   "cell_type": "code",
   "execution_count": 3,
   "metadata": {},
   "outputs": [],
   "source": [
    "titanic_df = pd.read_csv(\"D:\\\\Project\\\\CodeBasicsTasks\\\\DecisionTree\\\\titanic.csv\")"
   ]
  },
  {
   "cell_type": "code",
   "execution_count": 4,
   "metadata": {},
   "outputs": [
    {
     "data": {
      "text/html": [
       "<div>\n",
       "<style scoped>\n",
       "    .dataframe tbody tr th:only-of-type {\n",
       "        vertical-align: middle;\n",
       "    }\n",
       "\n",
       "    .dataframe tbody tr th {\n",
       "        vertical-align: top;\n",
       "    }\n",
       "\n",
       "    .dataframe thead th {\n",
       "        text-align: right;\n",
       "    }\n",
       "</style>\n",
       "<table border=\"1\" class=\"dataframe\">\n",
       "  <thead>\n",
       "    <tr style=\"text-align: right;\">\n",
       "      <th></th>\n",
       "      <th>PassengerId</th>\n",
       "      <th>Name</th>\n",
       "      <th>Pclass</th>\n",
       "      <th>Sex</th>\n",
       "      <th>Age</th>\n",
       "      <th>SibSp</th>\n",
       "      <th>Parch</th>\n",
       "      <th>Ticket</th>\n",
       "      <th>Fare</th>\n",
       "      <th>Cabin</th>\n",
       "      <th>Embarked</th>\n",
       "      <th>Survived</th>\n",
       "    </tr>\n",
       "  </thead>\n",
       "  <tbody>\n",
       "    <tr>\n",
       "      <th>0</th>\n",
       "      <td>1</td>\n",
       "      <td>Braund, Mr. Owen Harris</td>\n",
       "      <td>3</td>\n",
       "      <td>male</td>\n",
       "      <td>22.0</td>\n",
       "      <td>1</td>\n",
       "      <td>0</td>\n",
       "      <td>A/5 21171</td>\n",
       "      <td>7.2500</td>\n",
       "      <td>NaN</td>\n",
       "      <td>S</td>\n",
       "      <td>0</td>\n",
       "    </tr>\n",
       "    <tr>\n",
       "      <th>1</th>\n",
       "      <td>2</td>\n",
       "      <td>Cumings, Mrs. John Bradley (Florence Briggs Th...</td>\n",
       "      <td>1</td>\n",
       "      <td>female</td>\n",
       "      <td>38.0</td>\n",
       "      <td>1</td>\n",
       "      <td>0</td>\n",
       "      <td>PC 17599</td>\n",
       "      <td>71.2833</td>\n",
       "      <td>C85</td>\n",
       "      <td>C</td>\n",
       "      <td>1</td>\n",
       "    </tr>\n",
       "    <tr>\n",
       "      <th>2</th>\n",
       "      <td>3</td>\n",
       "      <td>Heikkinen, Miss. Laina</td>\n",
       "      <td>3</td>\n",
       "      <td>female</td>\n",
       "      <td>26.0</td>\n",
       "      <td>0</td>\n",
       "      <td>0</td>\n",
       "      <td>STON/O2. 3101282</td>\n",
       "      <td>7.9250</td>\n",
       "      <td>NaN</td>\n",
       "      <td>S</td>\n",
       "      <td>1</td>\n",
       "    </tr>\n",
       "    <tr>\n",
       "      <th>3</th>\n",
       "      <td>4</td>\n",
       "      <td>Futrelle, Mrs. Jacques Heath (Lily May Peel)</td>\n",
       "      <td>1</td>\n",
       "      <td>female</td>\n",
       "      <td>35.0</td>\n",
       "      <td>1</td>\n",
       "      <td>0</td>\n",
       "      <td>113803</td>\n",
       "      <td>53.1000</td>\n",
       "      <td>C123</td>\n",
       "      <td>S</td>\n",
       "      <td>1</td>\n",
       "    </tr>\n",
       "    <tr>\n",
       "      <th>4</th>\n",
       "      <td>5</td>\n",
       "      <td>Allen, Mr. William Henry</td>\n",
       "      <td>3</td>\n",
       "      <td>male</td>\n",
       "      <td>35.0</td>\n",
       "      <td>0</td>\n",
       "      <td>0</td>\n",
       "      <td>373450</td>\n",
       "      <td>8.0500</td>\n",
       "      <td>NaN</td>\n",
       "      <td>S</td>\n",
       "      <td>0</td>\n",
       "    </tr>\n",
       "  </tbody>\n",
       "</table>\n",
       "</div>"
      ],
      "text/plain": [
       "   PassengerId                                               Name  Pclass  \\\n",
       "0            1                            Braund, Mr. Owen Harris       3   \n",
       "1            2  Cumings, Mrs. John Bradley (Florence Briggs Th...       1   \n",
       "2            3                             Heikkinen, Miss. Laina       3   \n",
       "3            4       Futrelle, Mrs. Jacques Heath (Lily May Peel)       1   \n",
       "4            5                           Allen, Mr. William Henry       3   \n",
       "\n",
       "      Sex   Age  SibSp  Parch            Ticket     Fare Cabin Embarked  \\\n",
       "0    male  22.0      1      0         A/5 21171   7.2500   NaN        S   \n",
       "1  female  38.0      1      0          PC 17599  71.2833   C85        C   \n",
       "2  female  26.0      0      0  STON/O2. 3101282   7.9250   NaN        S   \n",
       "3  female  35.0      1      0            113803  53.1000  C123        S   \n",
       "4    male  35.0      0      0            373450   8.0500   NaN        S   \n",
       "\n",
       "   Survived  \n",
       "0         0  \n",
       "1         1  \n",
       "2         1  \n",
       "3         1  \n",
       "4         0  "
      ]
     },
     "execution_count": 4,
     "metadata": {},
     "output_type": "execute_result"
    }
   ],
   "source": [
    "titanic_df.head()"
   ]
  },
  {
   "cell_type": "code",
   "execution_count": 5,
   "metadata": {},
   "outputs": [],
   "source": [
    "titanic_df=  titanic_df[[\"Pclass\",\"Sex\",\"Age\",\"Fare\",\"Survived\"]]"
   ]
  },
  {
   "cell_type": "code",
   "execution_count": 6,
   "metadata": {},
   "outputs": [
    {
     "data": {
      "text/html": [
       "<div>\n",
       "<style scoped>\n",
       "    .dataframe tbody tr th:only-of-type {\n",
       "        vertical-align: middle;\n",
       "    }\n",
       "\n",
       "    .dataframe tbody tr th {\n",
       "        vertical-align: top;\n",
       "    }\n",
       "\n",
       "    .dataframe thead th {\n",
       "        text-align: right;\n",
       "    }\n",
       "</style>\n",
       "<table border=\"1\" class=\"dataframe\">\n",
       "  <thead>\n",
       "    <tr style=\"text-align: right;\">\n",
       "      <th></th>\n",
       "      <th>Pclass</th>\n",
       "      <th>Sex</th>\n",
       "      <th>Age</th>\n",
       "      <th>Fare</th>\n",
       "      <th>Survived</th>\n",
       "    </tr>\n",
       "  </thead>\n",
       "  <tbody>\n",
       "    <tr>\n",
       "      <th>0</th>\n",
       "      <td>3</td>\n",
       "      <td>male</td>\n",
       "      <td>22.0</td>\n",
       "      <td>7.2500</td>\n",
       "      <td>0</td>\n",
       "    </tr>\n",
       "    <tr>\n",
       "      <th>1</th>\n",
       "      <td>1</td>\n",
       "      <td>female</td>\n",
       "      <td>38.0</td>\n",
       "      <td>71.2833</td>\n",
       "      <td>1</td>\n",
       "    </tr>\n",
       "    <tr>\n",
       "      <th>2</th>\n",
       "      <td>3</td>\n",
       "      <td>female</td>\n",
       "      <td>26.0</td>\n",
       "      <td>7.9250</td>\n",
       "      <td>1</td>\n",
       "    </tr>\n",
       "    <tr>\n",
       "      <th>3</th>\n",
       "      <td>1</td>\n",
       "      <td>female</td>\n",
       "      <td>35.0</td>\n",
       "      <td>53.1000</td>\n",
       "      <td>1</td>\n",
       "    </tr>\n",
       "    <tr>\n",
       "      <th>4</th>\n",
       "      <td>3</td>\n",
       "      <td>male</td>\n",
       "      <td>35.0</td>\n",
       "      <td>8.0500</td>\n",
       "      <td>0</td>\n",
       "    </tr>\n",
       "  </tbody>\n",
       "</table>\n",
       "</div>"
      ],
      "text/plain": [
       "   Pclass     Sex   Age     Fare  Survived\n",
       "0       3    male  22.0   7.2500         0\n",
       "1       1  female  38.0  71.2833         1\n",
       "2       3  female  26.0   7.9250         1\n",
       "3       1  female  35.0  53.1000         1\n",
       "4       3    male  35.0   8.0500         0"
      ]
     },
     "execution_count": 6,
     "metadata": {},
     "output_type": "execute_result"
    }
   ],
   "source": [
    "titanic_df.head()"
   ]
  },
  {
   "cell_type": "code",
   "execution_count": 7,
   "metadata": {},
   "outputs": [
    {
     "name": "stdout",
     "output_type": "stream",
     "text": [
      "<class 'pandas.core.frame.DataFrame'>\n",
      "RangeIndex: 891 entries, 0 to 890\n",
      "Data columns (total 5 columns):\n",
      " #   Column    Non-Null Count  Dtype  \n",
      "---  ------    --------------  -----  \n",
      " 0   Pclass    891 non-null    int64  \n",
      " 1   Sex       891 non-null    object \n",
      " 2   Age       714 non-null    float64\n",
      " 3   Fare      891 non-null    float64\n",
      " 4   Survived  891 non-null    int64  \n",
      "dtypes: float64(2), int64(2), object(1)\n",
      "memory usage: 34.9+ KB\n"
     ]
    }
   ],
   "source": [
    "titanic_df.info()"
   ]
  },
  {
   "cell_type": "code",
   "execution_count": 8,
   "metadata": {},
   "outputs": [],
   "source": [
    "titanic_df[\"Age\"] = titanic_df[\"Age\"].fillna(titanic_df[\"Age\"].mean())"
   ]
  },
  {
   "cell_type": "code",
   "execution_count": 9,
   "metadata": {},
   "outputs": [
    {
     "name": "stdout",
     "output_type": "stream",
     "text": [
      "<class 'pandas.core.frame.DataFrame'>\n",
      "RangeIndex: 891 entries, 0 to 890\n",
      "Data columns (total 5 columns):\n",
      " #   Column    Non-Null Count  Dtype  \n",
      "---  ------    --------------  -----  \n",
      " 0   Pclass    891 non-null    int64  \n",
      " 1   Sex       891 non-null    object \n",
      " 2   Age       891 non-null    float64\n",
      " 3   Fare      891 non-null    float64\n",
      " 4   Survived  891 non-null    int64  \n",
      "dtypes: float64(2), int64(2), object(1)\n",
      "memory usage: 34.9+ KB\n"
     ]
    }
   ],
   "source": [
    "titanic_df.info()"
   ]
  },
  {
   "cell_type": "markdown",
   "metadata": {},
   "source": [
    "## Label Encoding"
   ]
  },
  {
   "cell_type": "code",
   "execution_count": 10,
   "metadata": {},
   "outputs": [],
   "source": [
    "from sklearn.preprocessing import LabelEncoder"
   ]
  },
  {
   "cell_type": "code",
   "execution_count": 11,
   "metadata": {},
   "outputs": [],
   "source": [
    "sex = LabelEncoder()"
   ]
  },
  {
   "cell_type": "code",
   "execution_count": 12,
   "metadata": {},
   "outputs": [],
   "source": [
    "titanic_df[\"Sex\"] =sex.fit_transform(titanic_df[\"Sex\"])"
   ]
  },
  {
   "cell_type": "markdown",
   "metadata": {},
   "source": [
    "## Visualization"
   ]
  },
  {
   "cell_type": "code",
   "execution_count": 13,
   "metadata": {},
   "outputs": [
    {
     "data": {
      "text/plain": [
       "<matplotlib.axes._subplots.AxesSubplot at 0x1ed513e7a00>"
      ]
     },
     "execution_count": 13,
     "metadata": {},
     "output_type": "execute_result"
    },
    {
     "data": {
      "image/png": "[encoded data removed]",
      "text/plain": [
       "<Figure size 432x288 with 1 Axes>"
      ]
     },
     "metadata": {
      "needs_background": "light"
     },
     "output_type": "display_data"
    }
   ],
   "source": [
    "sns.distplot(titanic_df[\"Age\"])"
   ]
  },
  {
   "cell_type": "code",
   "execution_count": 14,
   "metadata": {},
   "outputs": [
    {
     "name": "stderr",
     "output_type": "stream",
     "text": [
      "C:\\ProgramData\\Anaconda3\\lib\\site-packages\\seaborn\\distributions.py:221: MatplotlibDeprecationWarning: Support for uppercase single-letter colors is deprecated since Matplotlib 3.1 and will be removed in 3.3; please use lowercase instead.\n",
      "  ax.hist(a, bins, orientation=orientation,\n"
     ]
    },
    {
     "data": {
      "text/plain": [
       "<matplotlib.axes._subplots.AxesSubplot at 0x1ed51ccd400>"
      ]
     },
     "execution_count": 14,
     "metadata": {},
     "output_type": "execute_result"
    },
    {
     "data": {
      "image/png": "[encoded data removed]",
      "text/plain": [
       "<Figure size 432x288 with 1 Axes>"
      ]
     },
     "metadata": {
      "needs_background": "light"
     },
     "output_type": "display_data"
    }
   ],
   "source": [
    "sns.distplot(titanic_df[\"Fare\"],color=\"G\")"
   ]
  },
  {
   "cell_type": "code",
   "execution_count": 15,
   "metadata": {},
   "outputs": [
    {
     "name": "stdout",
     "output_type": "stream",
     "text": [
      "3    491\n",
      "1    216\n",
      "2    184\n",
      "Name: Pclass, dtype: int64\n"
     ]
    },
    {
     "data": {
      "text/plain": [
       "<matplotlib.axes._subplots.AxesSubplot at 0x1ed51d73bb0>"
      ]
     },
     "execution_count": 15,
     "metadata": {},
     "output_type": "execute_result"
    },
    {
     "data": {
      "image/png": "[encoded data removed]",
      "text/plain": [
       "<Figure size 432x288 with 1 Axes>"
      ]
     },
     "metadata": {
      "needs_background": "light"
     },
     "output_type": "display_data"
    }
   ],
   "source": [
    "print(titanic_df[\"Pclass\"].value_counts())\n",
    "sns.countplot(titanic_df[\"Pclass\"])"
   ]
  },
  {
   "cell_type": "code",
   "execution_count": 16,
   "metadata": {},
   "outputs": [
    {
     "name": "stdout",
     "output_type": "stream",
     "text": [
      "1    577\n",
      "0    314\n",
      "Name: Sex, dtype: int64\n"
     ]
    },
    {
     "data": {
      "text/plain": [
       "<matplotlib.axes._subplots.AxesSubplot at 0x1ed51e33bb0>"
      ]
     },
     "execution_count": 16,
     "metadata": {},
     "output_type": "execute_result"
    },
    {
     "data": {
      "image/png": "[encoded data removed]",
      "text/plain": [
       "<Figure size 432x288 with 1 Axes>"
      ]
     },
     "metadata": {
      "needs_background": "light"
     },
     "output_type": "display_data"
    }
   ],
   "source": [
    "print(titanic_df[\"Sex\"].value_counts())\n",
    "sns.countplot(titanic_df[\"Sex\"])"
   ]
  },
  {
   "cell_type": "code",
   "execution_count": 17,
   "metadata": {},
   "outputs": [
    {
     "name": "stdout",
     "output_type": "stream",
     "text": [
      "0    549\n",
      "1    342\n",
      "Name: Survived, dtype: int64\n"
     ]
    },
    {
     "data": {
      "text/plain": [
       "<matplotlib.axes._subplots.AxesSubplot at 0x1ed51e85fd0>"
      ]
     },
     "execution_count": 17,
     "metadata": {},
     "output_type": "execute_result"
    },
    {
     "data": {
      "image/png": "[encoded data removed]",
      "text/plain": [
       "<Figure size 432x288 with 1 Axes>"
      ]
     },
     "metadata": {
      "needs_background": "light"
     },
     "output_type": "display_data"
    }
   ],
   "source": [
    "print(titanic_df[\"Survived\"].value_counts())\n",
    "sns.countplot(titanic_df[\"Survived\"])"
   ]
  },
  {
   "cell_type": "code",
   "execution_count": 18,
   "metadata": {},
   "outputs": [],
   "source": [
    "X = titanic_df.drop(\"Survived\", axis=1)\n",
    "y = titanic_df[\"Survived\"]"
   ]
  },
  {
   "cell_type": "markdown",
   "metadata": {},
   "source": [
    "## Train Test Split"
   ]
  },
  {
   "cell_type": "code",
   "execution_count": 19,
   "metadata": {},
   "outputs": [],
   "source": [
    "from sklearn.model_selection import train_test_split"
   ]
  },
  {
   "cell_type": "code",
   "execution_count": 20,
   "metadata": {},
   "outputs": [],
   "source": [
    "X_train,X_test, y_train,y_test = train_test_split(X,y,test_size=0.25, random_state=0)"
   ]
  },
  {
   "cell_type": "markdown",
   "metadata": {},
   "source": [
    "##  Model Building \n"
   ]
  },
  {
   "cell_type": "code",
   "execution_count": 21,
   "metadata": {},
   "outputs": [],
   "source": [
    "from sklearn.tree import DecisionTreeClassifier"
   ]
  },
  {
   "cell_type": "code",
   "execution_count": 22,
   "metadata": {},
   "outputs": [
    {
     "data": {
      "text/plain": [
       "DecisionTreeClassifier()"
      ]
     },
     "execution_count": 22,
     "metadata": {},
     "output_type": "execute_result"
    }
   ],
   "source": [
    "titanic_model = DecisionTreeClassifier()\n",
    "titanic_model.fit(X_train,y_train)"
   ]
  },
  {
   "cell_type": "markdown",
   "metadata": {},
   "source": [
    "## Train Accuracy"
   ]
  },
  {
   "cell_type": "code",
   "execution_count": 23,
   "metadata": {},
   "outputs": [
    {
     "data": {
      "text/plain": [
       "0.9775449101796407"
      ]
     },
     "execution_count": 23,
     "metadata": {},
     "output_type": "execute_result"
    }
   ],
   "source": [
    "titanic_model.score(X_train,y_train)"
   ]
  },
  {
   "cell_type": "markdown",
   "metadata": {},
   "source": [
    "## Test Accuracy"
   ]
  },
  {
   "cell_type": "code",
   "execution_count": 24,
   "metadata": {},
   "outputs": [
    {
     "data": {
      "text/plain": [
       "0.8026905829596412"
      ]
     },
     "execution_count": 24,
     "metadata": {},
     "output_type": "execute_result"
    }
   ],
   "source": [
    "titanic_model.score(X_test,y_test)"
   ]
  },
  {
   "cell_type": "markdown",
   "metadata": {},
   "source": [
    "## Model Predictions"
   ]
  },
  {
   "cell_type": "code",
   "execution_count": 25,
   "metadata": {},
   "outputs": [
    {
     "data": {
      "text/html": [
       "<div>\n",
       "<style scoped>\n",
       "    .dataframe tbody tr th:only-of-type {\n",
       "        vertical-align: middle;\n",
       "    }\n",
       "\n",
       "    .dataframe tbody tr th {\n",
       "        vertical-align: top;\n",
       "    }\n",
       "\n",
       "    .dataframe thead th {\n",
       "        text-align: right;\n",
       "    }\n",
       "</style>\n",
       "<table border=\"1\" class=\"dataframe\">\n",
       "  <thead>\n",
       "    <tr style=\"text-align: right;\">\n",
       "      <th></th>\n",
       "      <th>Pclass</th>\n",
       "      <th>Sex</th>\n",
       "      <th>Age</th>\n",
       "      <th>Fare</th>\n",
       "    </tr>\n",
       "  </thead>\n",
       "  <tbody>\n",
       "    <tr>\n",
       "      <th>609</th>\n",
       "      <td>1</td>\n",
       "      <td>0</td>\n",
       "      <td>40.0</td>\n",
       "      <td>153.4625</td>\n",
       "    </tr>\n",
       "  </tbody>\n",
       "</table>\n",
       "</div>"
      ],
      "text/plain": [
       "     Pclass  Sex   Age      Fare\n",
       "609       1    0  40.0  153.4625"
      ]
     },
     "execution_count": 25,
     "metadata": {},
     "output_type": "execute_result"
    }
   ],
   "source": [
    "X_test[6:7]"
   ]
  },
  {
   "cell_type": "code",
   "execution_count": 26,
   "metadata": {},
   "outputs": [
    {
     "data": {
      "text/plain": [
       "609    1\n",
       "Name: Survived, dtype: int64"
      ]
     },
     "execution_count": 26,
     "metadata": {},
     "output_type": "execute_result"
    }
   ],
   "source": [
    "y_test[6:7]"
   ]
  },
  {
   "cell_type": "code",
   "execution_count": 27,
   "metadata": {},
   "outputs": [
    {
     "data": {
      "text/plain": [
       "array([1], dtype=int64)"
      ]
     },
     "execution_count": 27,
     "metadata": {},
     "output_type": "execute_result"
    }
   ],
   "source": [
    "titanic_model.predict([[1,0,40.0,153.4625]])"
   ]
  },
  {
   "cell_type": "markdown",
   "metadata": {},
   "source": [
    "## Plotting Decision Tree"
   ]
  },
  {
   "cell_type": "code",
   "execution_count": 55,
   "metadata": {},
   "outputs": [
    {
     "data": {
      "text/plain": [
       "[Text(267.6003934762774, 530.01, 'X[1] <= 0.5\\ngini = 0.474\\nsamples = 668\\nvalue = [410, 258]'),\n",
       " Text(136.69981751824818, 502.83000000000004, 'X[0] <= 2.5\\ngini = 0.372\\nsamples = 231\\nvalue = [57, 174]'),\n",
       " Text(74.84124087591242, 475.65000000000003, 'X[2] <= 2.5\\ngini = 0.116\\nsamples = 129\\nvalue = [8, 121]'),\n",
       " Text(68.73175182481752, 448.47, 'gini = 0.0\\nsamples = 1\\nvalue = [1, 0]'),\n",
       " Text(80.9507299270073, 448.47, 'X[3] <= 28.856\\ngini = 0.103\\nsamples = 128\\nvalue = [7, 121]'),\n",
       " Text(68.73175182481752, 421.29, 'X[3] <= 28.231\\ngini = 0.201\\nsamples = 53\\nvalue = [6, 47]'),\n",
       " Text(62.62226277372263, 394.11, 'X[2] <= 56.0\\ngini = 0.174\\nsamples = 52\\nvalue = [5, 47]'),\n",
       " Text(45.82116788321168, 366.93000000000006, 'X[2] <= 37.0\\ngini = 0.147\\nsamples = 50\\nvalue = [4, 46]'),\n",
       " Text(30.547445255474454, 339.75, 'X[2] <= 27.5\\ngini = 0.1\\nsamples = 38\\nvalue = [2, 36]'),\n",
       " Text(24.437956204379564, 312.57000000000005, 'X[2] <= 23.5\\ngini = 0.198\\nsamples = 18\\nvalue = [2, 16]'),\n",
       " Text(18.328467153284674, 285.39000000000004, 'gini = 0.0\\nsamples = 11\\nvalue = [0, 11]'),\n",
       " Text(30.547445255474454, 285.39000000000004, 'X[3] <= 19.875\\ngini = 0.408\\nsamples = 7\\nvalue = [2, 5]'),\n",
       " Text(18.328467153284674, 258.21000000000004, 'X[2] <= 25.5\\ngini = 0.32\\nsamples = 5\\nvalue = [1, 4]'),\n",
       " Text(12.218978102189782, 231.03000000000003, 'X[3] <= 15.875\\ngini = 0.444\\nsamples = 3\\nvalue = [1, 2]'),\n",
       " Text(6.109489051094891, 203.85000000000002, 'gini = 0.5\\nsamples = 2\\nvalue = [1, 1]'),\n",
       " Text(18.328467153284674, 203.85000000000002, 'gini = 0.0\\nsamples = 1\\nvalue = [0, 1]'),\n",
       " Text(24.437956204379564, 231.03000000000003, 'gini = 0.0\\nsamples = 2\\nvalue = [0, 2]'),\n",
       " Text(42.76642335766424, 258.21000000000004, 'X[3] <= 24.0\\ngini = 0.5\\nsamples = 2\\nvalue = [1, 1]'),\n",
       " Text(36.65693430656935, 231.03000000000003, 'gini = 0.0\\nsamples = 1\\nvalue = [1, 0]'),\n",
       " Text(48.87591240875913, 231.03000000000003, 'gini = 0.0\\nsamples = 1\\nvalue = [0, 1]'),\n",
       " Text(36.65693430656935, 312.57000000000005, 'gini = 0.0\\nsamples = 20\\nvalue = [0, 20]'),\n",
       " Text(61.09489051094891, 339.75, 'X[2] <= 39.0\\ngini = 0.278\\nsamples = 12\\nvalue = [2, 10]'),\n",
       " Text(54.98540145985402, 312.57000000000005, 'gini = 0.0\\nsamples = 1\\nvalue = [1, 0]'),\n",
       " Text(67.2043795620438, 312.57000000000005, 'X[3] <= 25.965\\ngini = 0.165\\nsamples = 11\\nvalue = [1, 10]'),\n",
       " Text(61.09489051094891, 285.39000000000004, 'gini = 0.0\\nsamples = 8\\nvalue = [0, 8]'),\n",
       " Text(73.3138686131387, 285.39000000000004, 'X[2] <= 47.0\\ngini = 0.444\\nsamples = 3\\nvalue = [1, 2]'),\n",
       " Text(67.2043795620438, 258.21000000000004, 'X[3] <= 26.86\\ngini = 0.5\\nsamples = 2\\nvalue = [1, 1]'),\n",
       " Text(61.09489051094891, 231.03000000000003, 'gini = 0.0\\nsamples = 1\\nvalue = [1, 0]'),\n",
       " Text(73.3138686131387, 231.03000000000003, 'gini = 0.0\\nsamples = 1\\nvalue = [0, 1]'),\n",
       " Text(79.42335766423358, 258.21000000000004, 'gini = 0.0\\nsamples = 1\\nvalue = [0, 1]'),\n",
       " Text(79.42335766423358, 366.93000000000006, 'X[2] <= 57.5\\ngini = 0.5\\nsamples = 2\\nvalue = [1, 1]'),\n",
       " Text(73.3138686131387, 339.75, 'gini = 0.0\\nsamples = 1\\nvalue = [1, 0]'),\n",
       " Text(85.53284671532847, 339.75, 'gini = 0.0\\nsamples = 1\\nvalue = [0, 1]'),\n",
       " Text(74.84124087591242, 394.11, 'gini = 0.0\\nsamples = 1\\nvalue = [1, 0]'),\n",
       " Text(93.16970802919708, 421.29, 'X[3] <= 149.035\\ngini = 0.026\\nsamples = 75\\nvalue = [1, 74]'),\n",
       " Text(87.0602189781022, 394.11, 'gini = 0.0\\nsamples = 65\\nvalue = [0, 65]'),\n",
       " Text(99.27919708029198, 394.11, 'X[3] <= 152.506\\ngini = 0.18\\nsamples = 10\\nvalue = [1, 9]'),\n",
       " Text(93.16970802919708, 366.93000000000006, 'gini = 0.0\\nsamples = 1\\nvalue = [1, 0]'),\n",
       " Text(105.38868613138686, 366.93000000000006, 'gini = 0.0\\nsamples = 9\\nvalue = [0, 9]'),\n",
       " Text(198.55839416058396, 475.65000000000003, 'X[3] <= 23.35\\ngini = 0.499\\nsamples = 102\\nvalue = [49, 53]'),\n",
       " Text(168.0109489051095, 448.47, 'X[2] <= 38.5\\ngini = 0.469\\nsamples = 80\\nvalue = [30, 50]'),\n",
       " Text(161.9014598540146, 421.29, 'X[3] <= 7.888\\ngini = 0.455\\nsamples = 77\\nvalue = [27, 50]'),\n",
       " Text(125.24452554744526, 394.11, 'X[2] <= 30.1\\ngini = 0.358\\nsamples = 30\\nvalue = [7, 23]'),\n",
       " Text(119.13503649635037, 366.93000000000006, 'X[3] <= 7.781\\ngini = 0.293\\nsamples = 28\\nvalue = [5, 23]'),\n",
       " Text(113.02554744525548, 339.75, 'X[3] <= 7.763\\ngini = 0.363\\nsamples = 21\\nvalue = [5, 16]'),\n",
       " Text(97.75182481751825, 312.57000000000005, 'X[2] <= 26.35\\ngini = 0.278\\nsamples = 18\\nvalue = [3, 15]'),\n",
       " Text(91.64233576642336, 285.39000000000004, 'gini = 0.0\\nsamples = 6\\nvalue = [0, 6]'),\n",
       " Text(103.86131386861315, 285.39000000000004, 'X[3] <= 7.681\\ngini = 0.375\\nsamples = 12\\nvalue = [3, 9]'),\n",
       " Text(91.64233576642336, 258.21000000000004, 'X[3] <= 7.388\\ngini = 0.444\\nsamples = 3\\nvalue = [2, 1]'),\n",
       " Text(85.53284671532847, 231.03000000000003, 'gini = 0.0\\nsamples = 1\\nvalue = [0, 1]'),\n",
       " Text(97.75182481751825, 231.03000000000003, 'gini = 0.0\\nsamples = 2\\nvalue = [2, 0]'),\n",
       " Text(116.08029197080293, 258.21000000000004, 'X[3] <= 7.742\\ngini = 0.198\\nsamples = 9\\nvalue = [1, 8]'),\n",
       " Text(109.97080291970804, 231.03000000000003, 'gini = 0.0\\nsamples = 1\\nvalue = [0, 1]'),\n",
       " Text(122.18978102189782, 231.03000000000003, 'gini = 0.219\\nsamples = 8\\nvalue = [1, 7]'),\n",
       " Text(128.2992700729927, 312.57000000000005, 'X[2] <= 20.0\\ngini = 0.444\\nsamples = 3\\nvalue = [2, 1]'),\n",
       " Text(122.18978102189782, 285.39000000000004, 'gini = 0.0\\nsamples = 1\\nvalue = [1, 0]'),\n",
       " Text(134.4087591240876, 285.39000000000004, 'X[2] <= 23.5\\ngini = 0.5\\nsamples = 2\\nvalue = [1, 1]'),\n",
       " Text(128.2992700729927, 258.21000000000004, 'gini = 0.0\\nsamples = 1\\nvalue = [0, 1]'),\n",
       " Text(140.5182481751825, 258.21000000000004, 'gini = 0.0\\nsamples = 1\\nvalue = [1, 0]'),\n",
       " Text(125.24452554744526, 339.75, 'gini = 0.0\\nsamples = 7\\nvalue = [0, 7]'),\n",
       " Text(131.35401459854015, 366.93000000000006, 'gini = 0.0\\nsamples = 2\\nvalue = [2, 0]'),\n",
       " Text(198.55839416058396, 394.11, 'X[3] <= 21.55\\ngini = 0.489\\nsamples = 47\\nvalue = [20, 27]'),\n",
       " Text(192.44890510948906, 366.93000000000006, 'X[3] <= 20.8\\ngini = 0.498\\nsamples = 43\\nvalue = [20, 23]'),\n",
       " Text(186.33941605839416, 339.75, 'X[3] <= 18.629\\ngini = 0.493\\nsamples = 41\\nvalue = [18, 23]'),\n",
       " Text(180.2299270072993, 312.57000000000005, 'X[2] <= 16.0\\ngini = 0.5\\nsamples = 37\\nvalue = [18, 19]'),\n",
       " Text(158.84671532846716, 285.39000000000004, 'X[2] <= 14.75\\ngini = 0.375\\nsamples = 8\\nvalue = [2, 6]'),\n",
       " Text(152.7372262773723, 258.21000000000004, 'X[3] <= 11.375\\ngini = 0.444\\nsamples = 6\\nvalue = [2, 4]'),\n",
       " Text(146.6277372262774, 231.03000000000003, 'gini = 0.0\\nsamples = 1\\nvalue = [1, 0]'),\n",
       " Text(158.84671532846716, 231.03000000000003, 'X[2] <= 9.75\\ngini = 0.32\\nsamples = 5\\nvalue = [1, 4]'),\n",
       " Text(152.7372262773723, 203.85000000000002, 'gini = 0.0\\nsamples = 4\\nvalue = [0, 4]'),\n",
       " Text(164.95620437956205, 203.85000000000002, 'gini = 0.0\\nsamples = 1\\nvalue = [1, 0]'),\n",
       " Text(164.95620437956205, 258.21000000000004, 'gini = 0.0\\nsamples = 2\\nvalue = [0, 2]'),\n",
       " Text(201.6131386861314, 285.39000000000004, 'X[3] <= 17.6\\ngini = 0.495\\nsamples = 29\\nvalue = [16, 13]'),\n",
       " Text(195.5036496350365, 258.21000000000004, 'X[3] <= 14.979\\ngini = 0.499\\nsamples = 27\\nvalue = [14, 13]'),\n",
       " Text(183.28467153284672, 231.03000000000003, 'X[3] <= 13.438\\ngini = 0.465\\nsamples = 19\\nvalue = [12, 7]'),\n",
       " Text(177.17518248175185, 203.85000000000002, 'X[2] <= 19.0\\ngini = 0.498\\nsamples = 15\\nvalue = [8, 7]'),\n",
       " Text(171.06569343065695, 176.67000000000002, 'gini = 0.0\\nsamples = 3\\nvalue = [0, 3]'),\n",
       " Text(183.28467153284672, 176.67000000000002, 'X[2] <= 25.5\\ngini = 0.444\\nsamples = 12\\nvalue = [8, 4]'),\n",
       " Text(177.17518248175185, 149.49, 'gini = 0.0\\nsamples = 4\\nvalue = [4, 0]'),\n",
       " Text(189.3941605839416, 149.49, 'X[2] <= 27.5\\ngini = 0.5\\nsamples = 8\\nvalue = [4, 4]'),\n",
       " Text(183.28467153284672, 122.31, 'gini = 0.0\\nsamples = 3\\nvalue = [0, 3]'),\n",
       " Text(195.5036496350365, 122.31, 'X[3] <= 8.673\\ngini = 0.32\\nsamples = 5\\nvalue = [4, 1]'),\n",
       " Text(189.3941605839416, 95.13000000000005, 'gini = 0.0\\nsamples = 4\\nvalue = [4, 0]'),\n",
       " Text(201.6131386861314, 95.13000000000005, 'gini = 0.0\\nsamples = 1\\nvalue = [0, 1]'),\n",
       " Text(189.3941605839416, 203.85000000000002, 'gini = 0.0\\nsamples = 4\\nvalue = [4, 0]'),\n",
       " Text(207.7226277372263, 231.03000000000003, 'X[3] <= 16.4\\ngini = 0.375\\nsamples = 8\\nvalue = [2, 6]'),\n",
       " Text(201.6131386861314, 203.85000000000002, 'X[2] <= 27.85\\ngini = 0.444\\nsamples = 6\\nvalue = [2, 4]'),\n",
       " Text(195.5036496350365, 176.67000000000002, 'gini = 0.0\\nsamples = 1\\nvalue = [1, 0]'),\n",
       " Text(207.7226277372263, 176.67000000000002, 'X[2] <= 30.85\\ngini = 0.32\\nsamples = 5\\nvalue = [1, 4]'),\n",
       " Text(201.6131386861314, 149.49, 'gini = 0.0\\nsamples = 4\\nvalue = [0, 4]'),\n",
       " Text(213.83211678832117, 149.49, 'gini = 0.0\\nsamples = 1\\nvalue = [1, 0]'),\n",
       " Text(213.83211678832117, 203.85000000000002, 'gini = 0.0\\nsamples = 2\\nvalue = [0, 2]'),\n",
       " Text(207.7226277372263, 258.21000000000004, 'gini = 0.0\\nsamples = 2\\nvalue = [2, 0]'),\n",
       " Text(192.44890510948906, 312.57000000000005, 'gini = 0.0\\nsamples = 4\\nvalue = [0, 4]'),\n",
       " Text(198.55839416058396, 339.75, 'gini = 0.0\\nsamples = 2\\nvalue = [2, 0]'),\n",
       " Text(204.66788321167886, 366.93000000000006, 'gini = 0.0\\nsamples = 4\\nvalue = [0, 4]'),\n",
       " Text(174.1204379562044, 421.29, 'gini = 0.0\\nsamples = 3\\nvalue = [3, 0]'),\n",
       " Text(229.10583941605842, 448.47, 'X[2] <= 5.5\\ngini = 0.236\\nsamples = 22\\nvalue = [19, 3]'),\n",
       " Text(216.88686131386862, 421.29, 'X[3] <= 31.331\\ngini = 0.5\\nsamples = 2\\nvalue = [1, 1]'),\n",
       " Text(210.77737226277372, 394.11, 'gini = 0.0\\nsamples = 1\\nvalue = [1, 0]'),\n",
       " Text(222.99635036496352, 394.11, 'gini = 0.0\\nsamples = 1\\nvalue = [0, 1]'),\n",
       " Text(241.32481751824818, 421.29, 'X[3] <= 32.881\\ngini = 0.18\\nsamples = 20\\nvalue = [18, 2]'),\n",
       " Text(235.2153284671533, 394.11, 'X[3] <= 31.331\\ngini = 0.278\\nsamples = 12\\nvalue = [10, 2]'),\n",
       " Text(229.10583941605842, 366.93000000000006, 'X[3] <= 24.808\\ngini = 0.165\\nsamples = 11\\nvalue = [10, 1]'),\n",
       " Text(222.99635036496352, 339.75, 'X[3] <= 23.8\\ngini = 0.375\\nsamples = 4\\nvalue = [3, 1]'),\n",
       " Text(216.88686131386862, 312.57000000000005, 'gini = 0.0\\nsamples = 1\\nvalue = [1, 0]'),\n",
       " Text(229.10583941605842, 312.57000000000005, 'X[2] <= 19.85\\ngini = 0.444\\nsamples = 3\\nvalue = [2, 1]'),\n",
       " Text(222.99635036496352, 285.39000000000004, 'gini = 0.0\\nsamples = 1\\nvalue = [1, 0]'),\n",
       " Text(235.2153284671533, 285.39000000000004, 'X[2] <= 29.85\\ngini = 0.5\\nsamples = 2\\nvalue = [1, 1]'),\n",
       " Text(229.10583941605842, 258.21000000000004, 'gini = 0.0\\nsamples = 1\\nvalue = [0, 1]'),\n",
       " Text(241.32481751824818, 258.21000000000004, 'gini = 0.0\\nsamples = 1\\nvalue = [1, 0]'),\n",
       " Text(235.2153284671533, 339.75, 'gini = 0.0\\nsamples = 7\\nvalue = [7, 0]'),\n",
       " Text(241.32481751824818, 366.93000000000006, 'gini = 0.0\\nsamples = 1\\nvalue = [0, 1]'),\n",
       " Text(247.43430656934308, 394.11, 'gini = 0.0\\nsamples = 8\\nvalue = [8, 0]'),\n",
       " Text(398.50096943430657, 502.83000000000004, 'X[2] <= 14.0\\ngini = 0.311\\nsamples = 437\\nvalue = [353, 84]'),\n",
       " Text(259.65328467153284, 475.65000000000003, 'X[0] <= 2.5\\ngini = 0.491\\nsamples = 30\\nvalue = [13, 17]'),\n",
       " Text(253.54379562043798, 448.47, 'gini = 0.0\\nsamples = 11\\nvalue = [0, 11]'),\n",
       " Text(265.76277372262774, 448.47, 'X[3] <= 17.344\\ngini = 0.432\\nsamples = 19\\nvalue = [13, 6]'),\n",
       " Text(259.65328467153284, 421.29, 'gini = 0.0\\nsamples = 4\\nvalue = [0, 4]'),\n",
       " Text(271.87226277372264, 421.29, 'X[3] <= 20.8\\ngini = 0.231\\nsamples = 15\\nvalue = [13, 2]'),\n",
       " Text(259.65328467153284, 394.11, 'X[2] <= 10.0\\ngini = 0.5\\nsamples = 2\\nvalue = [1, 1]'),\n",
       " Text(253.54379562043798, 366.93000000000006, 'gini = 0.0\\nsamples = 1\\nvalue = [0, 1]'),\n",
       " Text(265.76277372262774, 366.93000000000006, 'gini = 0.0\\nsamples = 1\\nvalue = [1, 0]'),\n",
       " Text(284.09124087591243, 394.11, 'X[2] <= 3.5\\ngini = 0.142\\nsamples = 13\\nvalue = [12, 1]'),\n",
       " Text(277.98175182481754, 366.93000000000006, 'X[2] <= 2.5\\ngini = 0.278\\nsamples = 6\\nvalue = [5, 1]'),\n",
       " Text(271.87226277372264, 339.75, 'gini = 0.0\\nsamples = 5\\nvalue = [5, 0]'),\n",
       " Text(284.09124087591243, 339.75, 'gini = 0.0\\nsamples = 1\\nvalue = [0, 1]'),\n",
       " Text(290.20072992700733, 366.93000000000006, 'gini = 0.0\\nsamples = 7\\nvalue = [7, 0]'),\n",
       " Text(537.3486541970804, 475.65000000000003, 'X[0] <= 1.5\\ngini = 0.275\\nsamples = 407\\nvalue = [340, 67]'),\n",
       " Text(361.22354014598545, 448.47, 'X[2] <= 53.0\\ngini = 0.439\\nsamples = 89\\nvalue = [60, 29]'),\n",
       " Text(349.00456204379566, 421.29, 'X[3] <= 26.144\\ngini = 0.47\\nsamples = 74\\nvalue = [46, 28]'),\n",
       " Text(342.89507299270076, 394.11, 'gini = 0.0\\nsamples = 7\\nvalue = [7, 0]'),\n",
       " Text(355.11405109489056, 394.11, 'X[3] <= 27.135\\ngini = 0.487\\nsamples = 67\\nvalue = [39, 28]'),\n",
       " Text(302.4197080291971, 366.93000000000006, 'X[3] <= 26.469\\ngini = 0.278\\nsamples = 12\\nvalue = [2, 10]'),\n",
       " Text(296.3102189781022, 339.75, 'gini = 0.0\\nsamples = 4\\nvalue = [0, 4]'),\n",
       " Text(308.52919708029196, 339.75, 'X[2] <= 46.5\\ngini = 0.375\\nsamples = 8\\nvalue = [2, 6]'),\n",
       " Text(302.4197080291971, 312.57000000000005, 'X[2] <= 28.85\\ngini = 0.444\\nsamples = 6\\nvalue = [2, 4]'),\n",
       " Text(296.3102189781022, 285.39000000000004, 'gini = 0.0\\nsamples = 1\\nvalue = [0, 1]'),\n",
       " Text(308.52919708029196, 285.39000000000004, 'X[2] <= 32.35\\ngini = 0.48\\nsamples = 5\\nvalue = [2, 3]'),\n",
       " Text(302.4197080291971, 258.21000000000004, 'gini = 0.5\\nsamples = 2\\nvalue = [1, 1]'),\n",
       " Text(314.63868613138686, 258.21000000000004, 'X[2] <= 40.0\\ngini = 0.444\\nsamples = 3\\nvalue = [1, 2]'),\n",
       " Text(308.52919708029196, 231.03000000000003, 'gini = 0.0\\nsamples = 1\\nvalue = [0, 1]'),\n",
       " Text(320.74817518248176, 231.03000000000003, 'gini = 0.5\\nsamples = 2\\nvalue = [1, 1]'),\n",
       " Text(314.63868613138686, 312.57000000000005, 'gini = 0.0\\nsamples = 2\\nvalue = [0, 2]'),\n",
       " Text(407.808394160584, 366.93000000000006, 'X[3] <= 379.925\\ngini = 0.44\\nsamples = 55\\nvalue = [37, 18]'),\n",
       " Text(401.6989051094891, 339.75, 'X[2] <= 47.5\\ngini = 0.422\\nsamples = 53\\nvalue = [37, 16]'),\n",
       " Text(366.56934306569343, 312.57000000000005, 'X[2] <= 28.5\\ngini = 0.375\\nsamples = 44\\nvalue = [33, 11]'),\n",
       " Text(332.96715328467155, 285.39000000000004, 'X[3] <= 41.3\\ngini = 0.497\\nsamples = 13\\nvalue = [7, 6]'),\n",
       " Text(326.85766423357666, 258.21000000000004, 'gini = 0.0\\nsamples = 3\\nvalue = [0, 3]'),\n",
       " Text(339.07664233576645, 258.21000000000004, 'X[2] <= 18.0\\ngini = 0.42\\nsamples = 10\\nvalue = [7, 3]'),\n",
       " Text(332.96715328467155, 231.03000000000003, 'gini = 0.0\\nsamples = 1\\nvalue = [0, 1]'),\n",
       " Text(345.18613138686135, 231.03000000000003, 'X[2] <= 24.5\\ngini = 0.346\\nsamples = 9\\nvalue = [7, 2]'),\n",
       " Text(339.07664233576645, 203.85000000000002, 'gini = 0.0\\nsamples = 5\\nvalue = [5, 0]'),\n",
       " Text(351.29562043795625, 203.85000000000002, 'X[3] <= 50.1\\ngini = 0.5\\nsamples = 4\\nvalue = [2, 2]'),\n",
       " Text(345.18613138686135, 176.67000000000002, 'gini = 0.0\\nsamples = 1\\nvalue = [1, 0]'),\n",
       " Text(357.40510948905114, 176.67000000000002, 'X[3] <= 133.471\\ngini = 0.444\\nsamples = 3\\nvalue = [1, 2]'),\n",
       " Text(351.29562043795625, 149.49, 'gini = 0.0\\nsamples = 2\\nvalue = [0, 2]'),\n",
       " Text(363.514598540146, 149.49, 'gini = 0.0\\nsamples = 1\\nvalue = [1, 0]'),\n",
       " Text(400.17153284671537, 285.39000000000004, 'X[2] <= 30.5\\ngini = 0.271\\nsamples = 31\\nvalue = [26, 5]'),\n",
       " Text(394.06204379562047, 258.21000000000004, 'gini = 0.0\\nsamples = 12\\nvalue = [12, 0]'),\n",
       " Text(406.28102189781026, 258.21000000000004, 'X[2] <= 43.0\\ngini = 0.388\\nsamples = 19\\nvalue = [14, 5]'),\n",
       " Text(400.17153284671537, 231.03000000000003, 'X[3] <= 52.277\\ngini = 0.486\\nsamples = 12\\nvalue = [7, 5]'),\n",
       " Text(387.95255474452557, 203.85000000000002, 'X[3] <= 35.562\\ngini = 0.32\\nsamples = 5\\nvalue = [4, 1]'),\n",
       " Text(381.8430656934307, 176.67000000000002, 'X[2] <= 38.5\\ngini = 0.5\\nsamples = 2\\nvalue = [1, 1]'),\n",
       " Text(375.7335766423358, 149.49, 'gini = 0.0\\nsamples = 1\\nvalue = [1, 0]'),\n",
       " Text(387.95255474452557, 149.49, 'gini = 0.0\\nsamples = 1\\nvalue = [0, 1]'),\n",
       " Text(394.06204379562047, 176.67000000000002, 'gini = 0.0\\nsamples = 3\\nvalue = [3, 0]'),\n",
       " Text(412.39051094890516, 203.85000000000002, 'X[3] <= 52.827\\ngini = 0.49\\nsamples = 7\\nvalue = [3, 4]'),\n",
       " Text(406.28102189781026, 176.67000000000002, 'gini = 0.0\\nsamples = 2\\nvalue = [0, 2]'),\n",
       " Text(418.50000000000006, 176.67000000000002, 'X[2] <= 33.5\\ngini = 0.48\\nsamples = 5\\nvalue = [3, 2]'),\n",
       " Text(412.39051094890516, 149.49, 'gini = 0.0\\nsamples = 1\\nvalue = [0, 1]'),\n",
       " Text(424.6094890510949, 149.49, 'X[3] <= 84.425\\ngini = 0.375\\nsamples = 4\\nvalue = [3, 1]'),\n",
       " Text(418.50000000000006, 122.31, 'gini = 0.0\\nsamples = 2\\nvalue = [2, 0]'),\n",
       " Text(430.7189781021898, 122.31, 'X[3] <= 121.731\\ngini = 0.5\\nsamples = 2\\nvalue = [1, 1]'),\n",
       " Text(424.6094890510949, 95.13000000000005, 'gini = 0.0\\nsamples = 1\\nvalue = [0, 1]'),\n",
       " Text(436.8284671532847, 95.13000000000005, 'gini = 0.0\\nsamples = 1\\nvalue = [1, 0]'),\n",
       " Text(412.39051094890516, 231.03000000000003, 'gini = 0.0\\nsamples = 7\\nvalue = [7, 0]'),\n",
       " Text(436.8284671532847, 312.57000000000005, 'X[2] <= 49.5\\ngini = 0.494\\nsamples = 9\\nvalue = [4, 5]'),\n",
       " Text(424.6094890510949, 285.39000000000004, 'X[3] <= 99.994\\ngini = 0.375\\nsamples = 4\\nvalue = [1, 3]'),\n",
       " Text(418.50000000000006, 258.21000000000004, 'gini = 0.0\\nsamples = 3\\nvalue = [0, 3]'),\n",
       " Text(430.7189781021898, 258.21000000000004, 'gini = 0.0\\nsamples = 1\\nvalue = [1, 0]'),\n",
       " Text(449.0474452554745, 285.39000000000004, 'X[2] <= 51.5\\ngini = 0.48\\nsamples = 5\\nvalue = [3, 2]'),\n",
       " Text(442.9379562043796, 258.21000000000004, 'X[3] <= 120.037\\ngini = 0.375\\nsamples = 4\\nvalue = [3, 1]'),\n",
       " Text(436.8284671532847, 231.03000000000003, 'gini = 0.0\\nsamples = 3\\nvalue = [3, 0]'),\n",
       " Text(449.0474452554745, 231.03000000000003, 'gini = 0.0\\nsamples = 1\\nvalue = [0, 1]'),\n",
       " Text(455.1569343065694, 258.21000000000004, 'gini = 0.0\\nsamples = 1\\nvalue = [0, 1]'),\n",
       " Text(413.9178832116789, 339.75, 'gini = 0.0\\nsamples = 2\\nvalue = [0, 2]'),\n",
       " Text(373.4425182481752, 421.29, 'X[2] <= 75.5\\ngini = 0.124\\nsamples = 15\\nvalue = [14, 1]'),\n",
       " Text(367.3330291970803, 394.11, 'gini = 0.0\\nsamples = 14\\nvalue = [14, 0]'),\n",
       " Text(379.5520072992701, 394.11, 'gini = 0.0\\nsamples = 1\\nvalue = [0, 1]'),\n",
       " Text(713.4737682481752, 448.47, 'X[2] <= 32.5\\ngini = 0.21\\nsamples = 318\\nvalue = [280, 38]'),\n",
       " Text(644.9329379562045, 421.29, 'X[2] <= 30.75\\ngini = 0.242\\nsamples = 234\\nvalue = [201, 33]'),\n",
       " Text(556.7271897810219, 394.11, 'X[2] <= 25.5\\ngini = 0.209\\nsamples = 219\\nvalue = [193, 26]'),\n",
       " Text(491.8138686131387, 366.93000000000006, 'X[3] <= 7.227\\ngini = 0.159\\nsamples = 92\\nvalue = [84, 8]'),\n",
       " Text(473.4854014598541, 339.75, 'X[3] <= 7.133\\ngini = 0.397\\nsamples = 11\\nvalue = [8, 3]'),\n",
       " Text(467.3759124087592, 312.57000000000005, 'X[2] <= 23.5\\ngini = 0.198\\nsamples = 9\\nvalue = [8, 1]'),\n",
       " Text(461.2664233576643, 285.39000000000004, 'gini = 0.0\\nsamples = 7\\nvalue = [7, 0]'),\n",
       " Text(473.4854014598541, 285.39000000000004, 'X[3] <= 3.525\\ngini = 0.5\\nsamples = 2\\nvalue = [1, 1]'),\n",
       " Text(467.3759124087592, 258.21000000000004, 'gini = 0.0\\nsamples = 1\\nvalue = [0, 1]'),\n",
       " Text(479.5948905109489, 258.21000000000004, 'gini = 0.0\\nsamples = 1\\nvalue = [1, 0]'),\n",
       " Text(479.5948905109489, 312.57000000000005, 'gini = 0.0\\nsamples = 2\\nvalue = [0, 2]'),\n",
       " Text(510.1423357664234, 339.75, 'X[2] <= 21.5\\ngini = 0.116\\nsamples = 81\\nvalue = [76, 5]'),\n",
       " Text(504.0328467153285, 312.57000000000005, 'X[3] <= 15.921\\ngini = 0.183\\nsamples = 49\\nvalue = [44, 5]'),\n",
       " Text(497.9233576642336, 285.39000000000004, 'X[3] <= 15.121\\ngini = 0.219\\nsamples = 40\\nvalue = [35, 5]'),\n",
       " Text(491.8138686131387, 258.21000000000004, 'X[3] <= 8.104\\ngini = 0.184\\nsamples = 39\\nvalue = [35, 4]'),\n",
       " Text(464.32116788321173, 231.03000000000003, 'X[2] <= 16.5\\ngini = 0.266\\nsamples = 19\\nvalue = [16, 3]'),\n",
       " Text(458.21167883211683, 203.85000000000002, 'gini = 0.5\\nsamples = 2\\nvalue = [1, 1]'),\n",
       " Text(470.4306569343066, 203.85000000000002, 'X[3] <= 7.785\\ngini = 0.208\\nsamples = 17\\nvalue = [15, 2]'),\n",
       " Text(464.32116788321173, 176.67000000000002, 'gini = 0.0\\nsamples = 6\\nvalue = [6, 0]'),\n",
       " Text(476.54014598540147, 176.67000000000002, 'X[3] <= 7.798\\ngini = 0.298\\nsamples = 11\\nvalue = [9, 2]'),\n",
       " Text(464.32116788321173, 149.49, 'X[2] <= 19.5\\ngini = 0.5\\nsamples = 2\\nvalue = [1, 1]'),\n",
       " Text(458.21167883211683, 122.31, 'gini = 0.0\\nsamples = 1\\nvalue = [1, 0]'),\n",
       " Text(470.4306569343066, 122.31, 'gini = 0.0\\nsamples = 1\\nvalue = [0, 1]'),\n",
       " Text(488.75912408759126, 149.49, 'X[2] <= 20.5\\ngini = 0.198\\nsamples = 9\\nvalue = [8, 1]'),\n",
       " Text(482.64963503649636, 122.31, 'X[3] <= 7.89\\ngini = 0.32\\nsamples = 5\\nvalue = [4, 1]'),\n",
       " Text(476.54014598540147, 95.13000000000005, 'gini = 0.0\\nsamples = 2\\nvalue = [2, 0]'),\n",
       " Text(488.75912408759126, 95.13000000000005, 'X[3] <= 7.988\\ngini = 0.444\\nsamples = 3\\nvalue = [2, 1]'),\n",
       " Text(482.64963503649636, 67.95000000000005, 'gini = 0.5\\nsamples = 2\\nvalue = [1, 1]'),\n",
       " Text(494.86861313868616, 67.95000000000005, 'gini = 0.0\\nsamples = 1\\nvalue = [1, 0]'),\n",
       " Text(494.86861313868616, 122.31, 'gini = 0.0\\nsamples = 4\\nvalue = [4, 0]'),\n",
       " Text(519.3065693430657, 231.03000000000003, 'X[0] <= 2.5\\ngini = 0.095\\nsamples = 20\\nvalue = [19, 1]'),\n",
       " Text(513.1970802919708, 203.85000000000002, 'X[3] <= 11.0\\ngini = 0.245\\nsamples = 7\\nvalue = [6, 1]'),\n",
       " Text(507.08759124087595, 176.67000000000002, 'X[2] <= 17.5\\ngini = 0.444\\nsamples = 3\\nvalue = [2, 1]'),\n",
       " Text(500.97810218978105, 149.49, 'gini = 0.0\\nsamples = 1\\nvalue = [1, 0]'),\n",
       " Text(513.1970802919708, 149.49, 'gini = 0.5\\nsamples = 2\\nvalue = [1, 1]'),\n",
       " Text(519.3065693430657, 176.67000000000002, 'gini = 0.0\\nsamples = 4\\nvalue = [4, 0]'),\n",
       " Text(525.4160583941606, 203.85000000000002, 'gini = 0.0\\nsamples = 13\\nvalue = [13, 0]'),\n",
       " Text(504.0328467153285, 258.21000000000004, 'gini = 0.0\\nsamples = 1\\nvalue = [0, 1]'),\n",
       " Text(510.1423357664234, 285.39000000000004, 'gini = 0.0\\nsamples = 9\\nvalue = [9, 0]'),\n",
       " Text(516.2518248175182, 312.57000000000005, 'gini = 0.0\\nsamples = 32\\nvalue = [32, 0]'),\n",
       " Text(621.6405109489051, 366.93000000000006, 'X[3] <= 8.081\\ngini = 0.243\\nsamples = 127\\nvalue = [109, 18]'),\n",
       " Text(574.2919708029198, 339.75, 'X[2] <= 29.35\\ngini = 0.165\\nsamples = 77\\nvalue = [70, 7]'),\n",
       " Text(543.7445255474453, 312.57000000000005, 'X[3] <= 7.825\\ngini = 0.36\\nsamples = 17\\nvalue = [13, 4]'),\n",
       " Text(531.5255474452555, 285.39000000000004, 'X[2] <= 27.5\\ngini = 0.48\\nsamples = 5\\nvalue = [2, 3]'),\n",
       " Text(525.4160583941606, 258.21000000000004, 'gini = 0.0\\nsamples = 2\\nvalue = [0, 2]'),\n",
       " Text(537.6350364963504, 258.21000000000004, 'X[2] <= 28.75\\ngini = 0.444\\nsamples = 3\\nvalue = [2, 1]'),\n",
       " Text(531.5255474452555, 231.03000000000003, 'gini = 0.0\\nsamples = 2\\nvalue = [2, 0]'),\n",
       " Text(543.7445255474453, 231.03000000000003, 'gini = 0.0\\nsamples = 1\\nvalue = [0, 1]'),\n",
       " Text(555.9635036496351, 285.39000000000004, 'X[2] <= 28.5\\ngini = 0.153\\nsamples = 12\\nvalue = [11, 1]'),\n",
       " Text(549.8540145985402, 258.21000000000004, 'gini = 0.0\\nsamples = 9\\nvalue = [9, 0]'),\n",
       " Text(562.07299270073, 258.21000000000004, 'X[3] <= 7.885\\ngini = 0.444\\nsamples = 3\\nvalue = [2, 1]'),\n",
       " Text(555.9635036496351, 231.03000000000003, 'gini = 0.0\\nsamples = 1\\nvalue = [1, 0]'),\n",
       " Text(568.1824817518249, 231.03000000000003, 'X[3] <= 7.973\\ngini = 0.5\\nsamples = 2\\nvalue = [1, 1]'),\n",
       " Text(562.07299270073, 203.85000000000002, 'gini = 0.0\\nsamples = 1\\nvalue = [0, 1]'),\n",
       " Text(574.2919708029198, 203.85000000000002, 'gini = 0.0\\nsamples = 1\\nvalue = [1, 0]'),\n",
       " Text(604.8394160583942, 312.57000000000005, 'X[3] <= 7.802\\ngini = 0.095\\nsamples = 60\\nvalue = [57, 3]'),\n",
       " Text(598.7299270072994, 285.39000000000004, 'X[3] <= 7.763\\ngini = 0.157\\nsamples = 35\\nvalue = [32, 3]'),\n",
       " Text(592.6204379562045, 258.21000000000004, 'X[3] <= 7.227\\ngini = 0.114\\nsamples = 33\\nvalue = [31, 2]'),\n",
       " Text(586.5109489051096, 231.03000000000003, 'gini = 0.0\\nsamples = 12\\nvalue = [12, 0]'),\n",
       " Text(598.7299270072994, 231.03000000000003, 'X[3] <= 7.24\\ngini = 0.172\\nsamples = 21\\nvalue = [19, 2]'),\n",
       " Text(586.5109489051096, 203.85000000000002, 'X[2] <= 29.85\\ngini = 0.278\\nsamples = 6\\nvalue = [5, 1]'),\n",
       " Text(580.4014598540147, 176.67000000000002, 'gini = 0.32\\nsamples = 5\\nvalue = [4, 1]'),\n",
       " Text(592.6204379562045, 176.67000000000002, 'gini = 0.0\\nsamples = 1\\nvalue = [1, 0]'),\n",
       " Text(610.9489051094891, 203.85000000000002, 'X[3] <= 7.742\\ngini = 0.124\\nsamples = 15\\nvalue = [14, 1]'),\n",
       " Text(604.8394160583942, 176.67000000000002, 'gini = 0.0\\nsamples = 7\\nvalue = [7, 0]'),\n",
       " Text(617.0583941605839, 176.67000000000002, 'gini = 0.219\\nsamples = 8\\nvalue = [7, 1]'),\n",
       " Text(604.8394160583942, 258.21000000000004, 'gini = 0.5\\nsamples = 2\\nvalue = [1, 1]'),\n",
       " Text(610.9489051094891, 285.39000000000004, 'gini = 0.0\\nsamples = 25\\nvalue = [25, 0]'),\n",
       " Text(668.9890510948906, 339.75, 'X[3] <= 15.373\\ngini = 0.343\\nsamples = 50\\nvalue = [39, 11]'),\n",
       " Text(653.7153284671533, 312.57000000000005, 'X[3] <= 15.173\\ngini = 0.454\\nsamples = 23\\nvalue = [15, 8]'),\n",
       " Text(647.6058394160584, 285.39000000000004, 'X[3] <= 8.388\\ngini = 0.408\\nsamples = 21\\nvalue = [15, 6]'),\n",
       " Text(641.4963503649635, 258.21000000000004, 'gini = 0.0\\nsamples = 1\\nvalue = [0, 1]'),\n",
       " Text(653.7153284671533, 258.21000000000004, 'X[3] <= 14.158\\ngini = 0.375\\nsamples = 20\\nvalue = [15, 5]'),\n",
       " Text(647.6058394160584, 231.03000000000003, 'X[3] <= 13.681\\ngini = 0.415\\nsamples = 17\\nvalue = [12, 5]'),\n",
       " Text(641.4963503649635, 203.85000000000002, 'X[3] <= 10.0\\ngini = 0.375\\nsamples = 16\\nvalue = [12, 4]'),\n",
       " Text(629.2773722627737, 176.67000000000002, 'X[2] <= 29.85\\ngini = 0.469\\nsamples = 8\\nvalue = [5, 3]'),\n",
       " Text(623.1678832116788, 149.49, 'X[2] <= 29.35\\ngini = 0.408\\nsamples = 7\\nvalue = [5, 2]'),\n",
       " Text(617.0583941605839, 122.31, 'X[2] <= 26.5\\ngini = 0.48\\nsamples = 5\\nvalue = [3, 2]'),\n",
       " Text(610.9489051094891, 95.13000000000005, 'gini = 0.0\\nsamples = 1\\nvalue = [1, 0]'),\n",
       " Text(623.1678832116788, 95.13000000000005, 'X[3] <= 9.073\\ngini = 0.5\\nsamples = 4\\nvalue = [2, 2]'),\n",
       " Text(617.0583941605839, 67.95000000000005, 'gini = 0.0\\nsamples = 1\\nvalue = [0, 1]'),\n",
       " Text(629.2773722627737, 67.95000000000005, 'X[3] <= 9.492\\ngini = 0.444\\nsamples = 3\\nvalue = [2, 1]'),\n",
       " Text(623.1678832116788, 40.77000000000004, 'gini = 0.0\\nsamples = 1\\nvalue = [1, 0]'),\n",
       " Text(635.3868613138686, 40.77000000000004, 'X[2] <= 28.5\\ngini = 0.5\\nsamples = 2\\nvalue = [1, 1]'),\n",
       " Text(629.2773722627737, 13.590000000000032, 'gini = 0.0\\nsamples = 1\\nvalue = [1, 0]'),\n",
       " Text(641.4963503649635, 13.590000000000032, 'gini = 0.0\\nsamples = 1\\nvalue = [0, 1]'),\n",
       " Text(629.2773722627737, 122.31, 'gini = 0.0\\nsamples = 2\\nvalue = [2, 0]'),\n",
       " Text(635.3868613138686, 149.49, 'gini = 0.0\\nsamples = 1\\nvalue = [0, 1]'),\n",
       " Text(653.7153284671533, 176.67000000000002, 'X[2] <= 29.35\\ngini = 0.219\\nsamples = 8\\nvalue = [7, 1]'),\n",
       " Text(647.6058394160584, 149.49, 'gini = 0.0\\nsamples = 4\\nvalue = [4, 0]'),\n",
       " Text(659.8248175182482, 149.49, 'X[2] <= 29.85\\ngini = 0.375\\nsamples = 4\\nvalue = [3, 1]'),\n",
       " Text(653.7153284671533, 122.31, 'gini = 0.0\\nsamples = 1\\nvalue = [0, 1]'),\n",
       " Text(665.9343065693431, 122.31, 'gini = 0.0\\nsamples = 3\\nvalue = [3, 0]'),\n",
       " Text(653.7153284671533, 203.85000000000002, 'gini = 0.0\\nsamples = 1\\nvalue = [0, 1]'),\n",
       " Text(659.8248175182482, 231.03000000000003, 'gini = 0.0\\nsamples = 3\\nvalue = [3, 0]'),\n",
       " Text(659.8248175182482, 285.39000000000004, 'gini = 0.0\\nsamples = 2\\nvalue = [0, 2]'),\n",
       " Text(684.2627737226278, 312.57000000000005, 'X[2] <= 26.5\\ngini = 0.198\\nsamples = 27\\nvalue = [24, 3]'),\n",
       " Text(672.043795620438, 285.39000000000004, 'X[3] <= 19.681\\ngini = 0.444\\nsamples = 3\\nvalue = [1, 2]'),\n",
       " Text(665.9343065693431, 258.21000000000004, 'gini = 0.0\\nsamples = 1\\nvalue = [0, 1]'),\n",
       " Text(678.1532846715329, 258.21000000000004, 'X[3] <= 38.535\\ngini = 0.5\\nsamples = 2\\nvalue = [1, 1]'),\n",
       " Text(672.043795620438, 231.03000000000003, 'gini = 0.0\\nsamples = 1\\nvalue = [1, 0]'),\n",
       " Text(684.2627737226278, 231.03000000000003, 'gini = 0.0\\nsamples = 1\\nvalue = [0, 1]'),\n",
       " Text(696.4817518248176, 285.39000000000004, 'X[3] <= 42.108\\ngini = 0.08\\nsamples = 24\\nvalue = [23, 1]'),\n",
       " Text(690.3722627737227, 258.21000000000004, 'gini = 0.0\\nsamples = 17\\nvalue = [17, 0]'),\n",
       " Text(702.5912408759125, 258.21000000000004, 'X[3] <= 63.023\\ngini = 0.245\\nsamples = 7\\nvalue = [6, 1]'),\n",
       " Text(696.4817518248176, 231.03000000000003, 'X[2] <= 28.85\\ngini = 0.444\\nsamples = 3\\nvalue = [2, 1]'),\n",
       " Text(690.3722627737227, 203.85000000000002, 'gini = 0.0\\nsamples = 1\\nvalue = [1, 0]'),\n",
       " Text(702.5912408759125, 203.85000000000002, 'gini = 0.5\\nsamples = 2\\nvalue = [1, 1]'),\n",
       " Text(708.7007299270074, 231.03000000000003, 'gini = 0.0\\nsamples = 4\\nvalue = [4, 0]'),\n",
       " Text(733.1386861313869, 394.11, 'X[3] <= 7.815\\ngini = 0.498\\nsamples = 15\\nvalue = [8, 7]'),\n",
       " Text(727.029197080292, 366.93000000000006, 'gini = 0.0\\nsamples = 2\\nvalue = [2, 0]'),\n",
       " Text(739.2481751824818, 366.93000000000006, 'X[3] <= 64.998\\ngini = 0.497\\nsamples = 13\\nvalue = [6, 7]'),\n",
       " Text(733.1386861313869, 339.75, 'X[3] <= 7.89\\ngini = 0.486\\nsamples = 12\\nvalue = [5, 7]'),\n",
       " Text(727.029197080292, 312.57000000000005, 'gini = 0.0\\nsamples = 1\\nvalue = [0, 1]'),\n",
       " Text(739.2481751824818, 312.57000000000005, 'X[3] <= 41.373\\ngini = 0.496\\nsamples = 11\\nvalue = [5, 6]'),\n",
       " Text(733.1386861313869, 285.39000000000004, 'X[3] <= 26.125\\ngini = 0.5\\nsamples = 10\\nvalue = [5, 5]'),\n",
       " Text(727.029197080292, 258.21000000000004, 'X[2] <= 31.5\\ngini = 0.494\\nsamples = 9\\nvalue = [4, 5]'),\n",
       " Text(720.9197080291972, 231.03000000000003, 'gini = 0.0\\nsamples = 2\\nvalue = [0, 2]'),\n",
       " Text(733.1386861313869, 231.03000000000003, 'X[3] <= 20.925\\ngini = 0.49\\nsamples = 7\\nvalue = [4, 3]'),\n",
       " Text(727.029197080292, 203.85000000000002, 'X[3] <= 9.275\\ngini = 0.444\\nsamples = 6\\nvalue = [4, 2]'),\n",
       " Text(720.9197080291972, 176.67000000000002, 'X[3] <= 7.988\\ngini = 0.5\\nsamples = 4\\nvalue = [2, 2]'),\n",
       " Text(714.8102189781023, 149.49, 'gini = 0.444\\nsamples = 3\\nvalue = [2, 1]'),\n",
       " Text(727.029197080292, 149.49, 'gini = 0.0\\nsamples = 1\\nvalue = [0, 1]'),\n",
       " Text(733.1386861313869, 176.67000000000002, 'gini = 0.0\\nsamples = 2\\nvalue = [2, 0]'),\n",
       " Text(739.2481751824818, 203.85000000000002, 'gini = 0.0\\nsamples = 1\\nvalue = [0, 1]'),\n",
       " Text(739.2481751824818, 258.21000000000004, 'gini = 0.0\\nsamples = 1\\nvalue = [1, 0]'),\n",
       " Text(745.3576642335767, 285.39000000000004, 'gini = 0.0\\nsamples = 1\\nvalue = [0, 1]'),\n",
       " Text(745.3576642335767, 339.75, 'gini = 0.0\\nsamples = 1\\nvalue = [1, 0]'),\n",
       " Text(782.014598540146, 421.29, 'X[3] <= 7.91\\ngini = 0.112\\nsamples = 84\\nvalue = [79, 5]'),\n",
       " Text(775.9051094890511, 394.11, 'gini = 0.0\\nsamples = 26\\nvalue = [26, 0]'),\n",
       " Text(788.1240875912409, 394.11, 'X[3] <= 7.988\\ngini = 0.158\\nsamples = 58\\nvalue = [53, 5]'),\n",
       " Text(763.6861313868613, 366.93000000000006, 'X[2] <= 38.0\\ngini = 0.5\\nsamples = 4\\nvalue = [2, 2]'),\n",
       " Text(757.5766423357665, 339.75, 'gini = 0.0\\nsamples = 1\\nvalue = [1, 0]'),\n",
       " Text(769.7956204379562, 339.75, 'X[2] <= 41.5\\ngini = 0.444\\nsamples = 3\\nvalue = [1, 2]'),\n",
       " Text(763.6861313868613, 312.57000000000005, 'gini = 0.5\\nsamples = 2\\nvalue = [1, 1]'),\n",
       " Text(775.9051094890511, 312.57000000000005, 'gini = 0.0\\nsamples = 1\\nvalue = [0, 1]'),\n",
       " Text(812.5620437956205, 366.93000000000006, 'X[3] <= 13.25\\ngini = 0.105\\nsamples = 54\\nvalue = [51, 3]'),\n",
       " Text(806.4525547445256, 339.75, 'X[3] <= 12.938\\ngini = 0.191\\nsamples = 28\\nvalue = [25, 3]'),\n",
       " Text(788.1240875912409, 312.57000000000005, 'X[2] <= 44.5\\ngini = 0.105\\nsamples = 18\\nvalue = [17, 1]'),\n",
       " Text(782.014598540146, 285.39000000000004, 'gini = 0.0\\nsamples = 13\\nvalue = [13, 0]'),\n",
       " Text(794.2335766423358, 285.39000000000004, 'X[2] <= 46.0\\ngini = 0.32\\nsamples = 5\\nvalue = [4, 1]'),\n",
       " Text(788.1240875912409, 258.21000000000004, 'gini = 0.0\\nsamples = 1\\nvalue = [0, 1]'),\n",
       " Text(800.3430656934307, 258.21000000000004, 'gini = 0.0\\nsamples = 4\\nvalue = [4, 0]'),\n",
       " Text(824.7810218978103, 312.57000000000005, 'X[2] <= 45.0\\ngini = 0.32\\nsamples = 10\\nvalue = [8, 2]'),\n",
       " Text(818.6715328467154, 285.39000000000004, 'X[2] <= 40.5\\ngini = 0.408\\nsamples = 7\\nvalue = [5, 2]'),\n",
       " Text(812.5620437956205, 258.21000000000004, 'X[2] <= 35.0\\ngini = 0.32\\nsamples = 5\\nvalue = [4, 1]'),\n",
       " Text(806.4525547445256, 231.03000000000003, 'gini = 0.444\\nsamples = 3\\nvalue = [2, 1]'),\n",
       " Text(818.6715328467154, 231.03000000000003, 'gini = 0.0\\nsamples = 2\\nvalue = [2, 0]'),\n",
       " Text(824.7810218978103, 258.21000000000004, 'gini = 0.5\\nsamples = 2\\nvalue = [1, 1]'),\n",
       " Text(830.8905109489052, 285.39000000000004, 'gini = 0.0\\nsamples = 3\\nvalue = [3, 0]'),\n",
       " Text(818.6715328467154, 339.75, 'gini = 0.0\\nsamples = 26\\nvalue = [26, 0]')]"
      ]
     },
     "execution_count": 55,
     "metadata": {},
     "output_type": "execute_result"
    },
    {
     "data": {
      "image/png": "[encoded data removed]",
      "text/plain": [
       "<Figure size 1080x720 with 1 Axes>"
      ]
     },
     "metadata": {
      "needs_background": "light"
     },
     "output_type": "display_data"
    }
   ],
   "source": [
    "from sklearn import tree\n",
    "plt.figure(figsize=(15,10))\n",
    "tree.plot_tree(titanic_model,filled=True)"
   ]
  },
  {
   "cell_type": "markdown",
   "metadata": {},
   "source": [
    "## Decision Tree Classifier using Salaries Dataset"
   ]
  },
  {
   "cell_type": "code",
   "execution_count": 28,
   "metadata": {},
   "outputs": [],
   "source": [
    "# import dataset"
   ]
  },
  {
   "cell_type": "code",
   "execution_count": 29,
   "metadata": {},
   "outputs": [],
   "source": [
    "salaries_df = pd.read_csv(\"D:\\\\Project\\\\CodeBasicsTasks\\\\DecisionTree\\\\salaries.csv\")"
   ]
  },
  {
   "cell_type": "code",
   "execution_count": 30,
   "metadata": {},
   "outputs": [
    {
     "data": {
      "text/plain": [
       "Index(['company', 'job', 'degree', 'salary_more_then_100k'], dtype='object')"
      ]
     },
     "execution_count": 30,
     "metadata": {},
     "output_type": "execute_result"
    }
   ],
   "source": [
    "salaries_df.columns"
   ]
  },
  {
   "cell_type": "code",
   "execution_count": 31,
   "metadata": {},
   "outputs": [
    {
     "data": {
      "text/html": [
       "<div>\n",
       "<style scoped>\n",
       "    .dataframe tbody tr th:only-of-type {\n",
       "        vertical-align: middle;\n",
       "    }\n",
       "\n",
       "    .dataframe tbody tr th {\n",
       "        vertical-align: top;\n",
       "    }\n",
       "\n",
       "    .dataframe thead th {\n",
       "        text-align: right;\n",
       "    }\n",
       "</style>\n",
       "<table border=\"1\" class=\"dataframe\">\n",
       "  <thead>\n",
       "    <tr style=\"text-align: right;\">\n",
       "      <th></th>\n",
       "      <th>company</th>\n",
       "      <th>job</th>\n",
       "      <th>degree</th>\n",
       "      <th>salary_more_then_100k</th>\n",
       "    </tr>\n",
       "  </thead>\n",
       "  <tbody>\n",
       "    <tr>\n",
       "      <th>0</th>\n",
       "      <td>google</td>\n",
       "      <td>sales executive</td>\n",
       "      <td>bachelors</td>\n",
       "      <td>0</td>\n",
       "    </tr>\n",
       "    <tr>\n",
       "      <th>1</th>\n",
       "      <td>google</td>\n",
       "      <td>sales executive</td>\n",
       "      <td>masters</td>\n",
       "      <td>0</td>\n",
       "    </tr>\n",
       "    <tr>\n",
       "      <th>2</th>\n",
       "      <td>google</td>\n",
       "      <td>business manager</td>\n",
       "      <td>bachelors</td>\n",
       "      <td>1</td>\n",
       "    </tr>\n",
       "    <tr>\n",
       "      <th>3</th>\n",
       "      <td>google</td>\n",
       "      <td>business manager</td>\n",
       "      <td>masters</td>\n",
       "      <td>1</td>\n",
       "    </tr>\n",
       "    <tr>\n",
       "      <th>4</th>\n",
       "      <td>google</td>\n",
       "      <td>computer programmer</td>\n",
       "      <td>bachelors</td>\n",
       "      <td>0</td>\n",
       "    </tr>\n",
       "  </tbody>\n",
       "</table>\n",
       "</div>"
      ],
      "text/plain": [
       "  company                  job     degree  salary_more_then_100k\n",
       "0  google      sales executive  bachelors                      0\n",
       "1  google      sales executive    masters                      0\n",
       "2  google     business manager  bachelors                      1\n",
       "3  google     business manager    masters                      1\n",
       "4  google  computer programmer  bachelors                      0"
      ]
     },
     "execution_count": 31,
     "metadata": {},
     "output_type": "execute_result"
    }
   ],
   "source": [
    "salaries_df.head()"
   ]
  },
  {
   "cell_type": "code",
   "execution_count": 32,
   "metadata": {},
   "outputs": [
    {
     "name": "stdout",
     "output_type": "stream",
     "text": [
      "<class 'pandas.core.frame.DataFrame'>\n",
      "RangeIndex: 16 entries, 0 to 15\n",
      "Data columns (total 4 columns):\n",
      " #   Column                 Non-Null Count  Dtype \n",
      "---  ------                 --------------  ----- \n",
      " 0   company                16 non-null     object\n",
      " 1   job                    16 non-null     object\n",
      " 2   degree                 16 non-null     object\n",
      " 3   salary_more_then_100k  16 non-null     int64 \n",
      "dtypes: int64(1), object(3)\n",
      "memory usage: 640.0+ bytes\n"
     ]
    }
   ],
   "source": [
    "salaries_df.info()"
   ]
  },
  {
   "cell_type": "markdown",
   "metadata": {},
   "source": [
    "## Visualization"
   ]
  },
  {
   "cell_type": "code",
   "execution_count": 33,
   "metadata": {},
   "outputs": [
    {
     "name": "stdout",
     "output_type": "stream",
     "text": [
      "facebook      6\n",
      "google        6\n",
      "abc pharma    4\n",
      "Name: company, dtype: int64\n"
     ]
    },
    {
     "data": {
      "text/plain": [
       "<matplotlib.axes._subplots.AxesSubplot at 0x1ed52267fa0>"
      ]
     },
     "execution_count": 33,
     "metadata": {},
     "output_type": "execute_result"
    },
    {
     "data": {
      "image/png": "[encoded data removed]",
      "text/plain": [
       "<Figure size 432x288 with 1 Axes>"
      ]
     },
     "metadata": {
      "needs_background": "light"
     },
     "output_type": "display_data"
    }
   ],
   "source": [
    "print(salaries_df[\"company\"].value_counts())\n",
    "sns.countplot(salaries_df[\"company\"])"
   ]
  },
  {
   "cell_type": "code",
   "execution_count": 34,
   "metadata": {},
   "outputs": [
    {
     "name": "stdout",
     "output_type": "stream",
     "text": [
      "business manager       6\n",
      "computer programmer    5\n",
      "sales executive        5\n",
      "Name: job, dtype: int64\n"
     ]
    },
    {
     "data": {
      "text/plain": [
       "<matplotlib.axes._subplots.AxesSubplot at 0x1ed523006d0>"
      ]
     },
     "execution_count": 34,
     "metadata": {},
     "output_type": "execute_result"
    },
    {
     "data": {
      "image/png": "[encoded data removed]",
      "text/plain": [
       "<Figure size 432x288 with 1 Axes>"
      ]
     },
     "metadata": {
      "needs_background": "light"
     },
     "output_type": "display_data"
    }
   ],
   "source": [
    "\n",
    "print(salaries_df[\"job\"].value_counts())\n",
    "sns.countplot(salaries_df[\"job\"])"
   ]
  },
  {
   "cell_type": "code",
   "execution_count": 35,
   "metadata": {},
   "outputs": [
    {
     "name": "stdout",
     "output_type": "stream",
     "text": [
      "bachelors    8\n",
      "masters      8\n",
      "Name: degree, dtype: int64\n"
     ]
    },
    {
     "data": {
      "text/plain": [
       "<matplotlib.axes._subplots.AxesSubplot at 0x1ed523533d0>"
      ]
     },
     "execution_count": 35,
     "metadata": {},
     "output_type": "execute_result"
    },
    {
     "data": {
      "image/png": "[encoded data removed]",
      "text/plain": [
       "<Figure size 432x288 with 1 Axes>"
      ]
     },
     "metadata": {
      "needs_background": "light"
     },
     "output_type": "display_data"
    }
   ],
   "source": [
    "\n",
    "print(salaries_df[\"degree\"].value_counts())\n",
    "sns.countplot(salaries_df[\"degree\"])"
   ]
  },
  {
   "cell_type": "code",
   "execution_count": 36,
   "metadata": {},
   "outputs": [
    {
     "name": "stdout",
     "output_type": "stream",
     "text": [
      "1    10\n",
      "0     6\n",
      "Name: salary_more_then_100k, dtype: int64\n"
     ]
    },
    {
     "data": {
      "text/plain": [
       "<matplotlib.axes._subplots.AxesSubplot at 0x1ed5239d790>"
      ]
     },
     "execution_count": 36,
     "metadata": {},
     "output_type": "execute_result"
    },
    {
     "data": {
      "image/png": "[encoded data removed]",
      "text/plain": [
       "<Figure size 432x288 with 1 Axes>"
      ]
     },
     "metadata": {
      "needs_background": "light"
     },
     "output_type": "display_data"
    }
   ],
   "source": [
    "\n",
    "print(salaries_df[\"salary_more_then_100k\"].value_counts())\n",
    "sns.countplot(salaries_df[\"salary_more_then_100k\"])"
   ]
  },
  {
   "cell_type": "markdown",
   "metadata": {},
   "source": [
    "## Label Encoding"
   ]
  },
  {
   "cell_type": "code",
   "execution_count": 37,
   "metadata": {},
   "outputs": [],
   "source": [
    "company = LabelEncoder()"
   ]
  },
  {
   "cell_type": "code",
   "execution_count": 38,
   "metadata": {},
   "outputs": [],
   "source": [
    "salaries_df[\"company\"] = company.fit_transform(salaries_df[\"company\"])"
   ]
  },
  {
   "cell_type": "code",
   "execution_count": 39,
   "metadata": {},
   "outputs": [],
   "source": [
    "job =LabelEncoder()"
   ]
  },
  {
   "cell_type": "code",
   "execution_count": 40,
   "metadata": {},
   "outputs": [],
   "source": [
    "salaries_df[\"job\"] = job.fit_transform(salaries_df[\"job\"])"
   ]
  },
  {
   "cell_type": "code",
   "execution_count": 41,
   "metadata": {},
   "outputs": [],
   "source": [
    "degree = LabelEncoder()"
   ]
  },
  {
   "cell_type": "code",
   "execution_count": 42,
   "metadata": {},
   "outputs": [],
   "source": [
    "salaries_df[\"degree\"] = degree.fit_transform(salaries_df[\"degree\"])"
   ]
  },
  {
   "cell_type": "code",
   "execution_count": 43,
   "metadata": {},
   "outputs": [
    {
     "data": {
      "text/html": [
       "<div>\n",
       "<style scoped>\n",
       "    .dataframe tbody tr th:only-of-type {\n",
       "        vertical-align: middle;\n",
       "    }\n",
       "\n",
       "    .dataframe tbody tr th {\n",
       "        vertical-align: top;\n",
       "    }\n",
       "\n",
       "    .dataframe thead th {\n",
       "        text-align: right;\n",
       "    }\n",
       "</style>\n",
       "<table border=\"1\" class=\"dataframe\">\n",
       "  <thead>\n",
       "    <tr style=\"text-align: right;\">\n",
       "      <th></th>\n",
       "      <th>company</th>\n",
       "      <th>job</th>\n",
       "      <th>degree</th>\n",
       "      <th>salary_more_then_100k</th>\n",
       "    </tr>\n",
       "  </thead>\n",
       "  <tbody>\n",
       "    <tr>\n",
       "      <th>0</th>\n",
       "      <td>2</td>\n",
       "      <td>2</td>\n",
       "      <td>0</td>\n",
       "      <td>0</td>\n",
       "    </tr>\n",
       "    <tr>\n",
       "      <th>1</th>\n",
       "      <td>2</td>\n",
       "      <td>2</td>\n",
       "      <td>1</td>\n",
       "      <td>0</td>\n",
       "    </tr>\n",
       "    <tr>\n",
       "      <th>2</th>\n",
       "      <td>2</td>\n",
       "      <td>0</td>\n",
       "      <td>0</td>\n",
       "      <td>1</td>\n",
       "    </tr>\n",
       "    <tr>\n",
       "      <th>3</th>\n",
       "      <td>2</td>\n",
       "      <td>0</td>\n",
       "      <td>1</td>\n",
       "      <td>1</td>\n",
       "    </tr>\n",
       "    <tr>\n",
       "      <th>4</th>\n",
       "      <td>2</td>\n",
       "      <td>1</td>\n",
       "      <td>0</td>\n",
       "      <td>0</td>\n",
       "    </tr>\n",
       "  </tbody>\n",
       "</table>\n",
       "</div>"
      ],
      "text/plain": [
       "   company  job  degree  salary_more_then_100k\n",
       "0        2    2       0                      0\n",
       "1        2    2       1                      0\n",
       "2        2    0       0                      1\n",
       "3        2    0       1                      1\n",
       "4        2    1       0                      0"
      ]
     },
     "execution_count": 43,
     "metadata": {},
     "output_type": "execute_result"
    }
   ],
   "source": [
    "salaries_df.head() "
   ]
  },
  {
   "cell_type": "code",
   "execution_count": 44,
   "metadata": {},
   "outputs": [],
   "source": [
    "X = salaries_df.drop(\"salary_more_then_100k\",axis=1)\n",
    "y= salaries_df[\"salary_more_then_100k\"]"
   ]
  },
  {
   "cell_type": "markdown",
   "metadata": {},
   "source": [
    "## Model Building"
   ]
  },
  {
   "cell_type": "code",
   "execution_count": 45,
   "metadata": {},
   "outputs": [
    {
     "data": {
      "text/plain": [
       "DecisionTreeClassifier()"
      ]
     },
     "execution_count": 45,
     "metadata": {},
     "output_type": "execute_result"
    }
   ],
   "source": [
    "salaries_model = DecisionTreeClassifier()\n",
    "salaries_model.fit(X,y)"
   ]
  },
  {
   "cell_type": "markdown",
   "metadata": {},
   "source": [
    "## Model Evaluation"
   ]
  },
  {
   "cell_type": "code",
   "execution_count": 46,
   "metadata": {},
   "outputs": [],
   "source": [
    "# Model Accuarcy"
   ]
  },
  {
   "cell_type": "code",
   "execution_count": 47,
   "metadata": {},
   "outputs": [
    {
     "data": {
      "text/plain": [
       "1.0"
      ]
     },
     "execution_count": 47,
     "metadata": {},
     "output_type": "execute_result"
    }
   ],
   "source": [
    "salaries_model.score(X,y)"
   ]
  },
  {
   "cell_type": "markdown",
   "metadata": {},
   "source": [
    "## Model Prediction"
   ]
  },
  {
   "cell_type": "code",
   "execution_count": 48,
   "metadata": {},
   "outputs": [
    {
     "data": {
      "text/html": [
       "<div>\n",
       "<style scoped>\n",
       "    .dataframe tbody tr th:only-of-type {\n",
       "        vertical-align: middle;\n",
       "    }\n",
       "\n",
       "    .dataframe tbody tr th {\n",
       "        vertical-align: top;\n",
       "    }\n",
       "\n",
       "    .dataframe thead th {\n",
       "        text-align: right;\n",
       "    }\n",
       "</style>\n",
       "<table border=\"1\" class=\"dataframe\">\n",
       "  <thead>\n",
       "    <tr style=\"text-align: right;\">\n",
       "      <th></th>\n",
       "      <th>company</th>\n",
       "      <th>job</th>\n",
       "      <th>degree</th>\n",
       "    </tr>\n",
       "  </thead>\n",
       "  <tbody>\n",
       "    <tr>\n",
       "      <th>5</th>\n",
       "      <td>2</td>\n",
       "      <td>1</td>\n",
       "      <td>1</td>\n",
       "    </tr>\n",
       "    <tr>\n",
       "      <th>6</th>\n",
       "      <td>0</td>\n",
       "      <td>2</td>\n",
       "      <td>1</td>\n",
       "    </tr>\n",
       "  </tbody>\n",
       "</table>\n",
       "</div>"
      ],
      "text/plain": [
       "   company  job  degree\n",
       "5        2    1       1\n",
       "6        0    2       1"
      ]
     },
     "execution_count": 48,
     "metadata": {},
     "output_type": "execute_result"
    }
   ],
   "source": [
    "X[5:7]"
   ]
  },
  {
   "cell_type": "code",
   "execution_count": 49,
   "metadata": {},
   "outputs": [
    {
     "data": {
      "text/plain": [
       "5    1\n",
       "6    0\n",
       "Name: salary_more_then_100k, dtype: int64"
      ]
     },
     "execution_count": 49,
     "metadata": {},
     "output_type": "execute_result"
    }
   ],
   "source": [
    "y[5:7]"
   ]
  },
  {
   "cell_type": "code",
   "execution_count": 50,
   "metadata": {},
   "outputs": [
    {
     "data": {
      "text/plain": [
       "array([1, 0], dtype=int64)"
      ]
     },
     "execution_count": 50,
     "metadata": {},
     "output_type": "execute_result"
    }
   ],
   "source": [
    "salaries_model.predict([[2,1,1],[0,2,1]])"
   ]
  },
  {
   "cell_type": "markdown",
   "metadata": {},
   "source": [
    "## Plotting Decision Tree"
   ]
  },
  {
   "cell_type": "code",
   "execution_count": 56,
   "metadata": {},
   "outputs": [
    {
     "data": {
      "text/plain": [
       "[Text(334.8, 498.3, 'X[0] <= 0.5\\ngini = 0.469\\nsamples = 16\\nvalue = [6, 10]'),\n",
       " Text(167.4, 407.70000000000005, 'X[2] <= 0.5\\ngini = 0.375\\nsamples = 4\\nvalue = [3, 1]'),\n",
       " Text(83.7, 317.1, 'gini = 0.0\\nsamples = 2\\nvalue = [2, 0]'),\n",
       " Text(251.10000000000002, 317.1, 'X[1] <= 1.0\\ngini = 0.5\\nsamples = 2\\nvalue = [1, 1]'),\n",
       " Text(167.4, 226.5, 'gini = 0.0\\nsamples = 1\\nvalue = [0, 1]'),\n",
       " Text(334.8, 226.5, 'gini = 0.0\\nsamples = 1\\nvalue = [1, 0]'),\n",
       " Text(502.20000000000005, 407.70000000000005, 'X[0] <= 1.5\\ngini = 0.375\\nsamples = 12\\nvalue = [3, 9]'),\n",
       " Text(418.5, 317.1, 'gini = 0.0\\nsamples = 6\\nvalue = [0, 6]'),\n",
       " Text(585.9, 317.1, 'X[1] <= 0.5\\ngini = 0.5\\nsamples = 6\\nvalue = [3, 3]'),\n",
       " Text(502.20000000000005, 226.5, 'gini = 0.0\\nsamples = 2\\nvalue = [0, 2]'),\n",
       " Text(669.6, 226.5, 'X[1] <= 1.5\\ngini = 0.375\\nsamples = 4\\nvalue = [3, 1]'),\n",
       " Text(585.9, 135.89999999999998, 'X[2] <= 0.5\\ngini = 0.5\\nsamples = 2\\nvalue = [1, 1]'),\n",
       " Text(502.20000000000005, 45.299999999999955, 'gini = 0.0\\nsamples = 1\\nvalue = [1, 0]'),\n",
       " Text(669.6, 45.299999999999955, 'gini = 0.0\\nsamples = 1\\nvalue = [0, 1]'),\n",
       " Text(753.3000000000001, 135.89999999999998, 'gini = 0.0\\nsamples = 2\\nvalue = [2, 0]')]"
      ]
     },
     "execution_count": 56,
     "metadata": {},
     "output_type": "execute_result"
    },
    {
     "data": {
      "image/png": "[encoded data removed]",
      "text/plain": [
       "<Figure size 1080x720 with 1 Axes>"
      ]
     },
     "metadata": {
      "needs_background": "light"
     },
     "output_type": "display_data"
    }
   ],
   "source": [
    "from sklearn import tree\n",
    "plt.figure(figsize=(15,10))\n",
    "tree.plot_tree(salaries_model,filled=True)"
   ]
  }
 ],
 "metadata": {
  "kernelspec": {
   "display_name": "Python 3",
   "language": "python",
   "name": "python3"
  },
  "language_info": {
   "codemirror_mode": {
    "name": "ipython",
    "version": 3
   },
   "file_extension": ".py",
   "mimetype": "text/x-python",
   "name": "python",
   "nbconvert_exporter": "python",
   "pygments_lexer": "ipython3",
   "version": "3.8.3"
  }
 },
 "nbformat": 4,
 "nbformat_minor": 4
}
